{
  "nbformat": 4,
  "nbformat_minor": 0,
  "metadata": {
    "colab": {
      "provenance": [],
      "authorship_tag": "ABX9TyM31nU4D6nWP+gMgKkhZ9tK",
      "include_colab_link": true
    },
    "kernelspec": {
      "name": "python3",
      "display_name": "Python 3"
    },
    "language_info": {
      "name": "python"
    }
  },
  "cells": [
    {
      "cell_type": "markdown",
      "metadata": {
        "id": "view-in-github",
        "colab_type": "text"
      },
      "source": [
        "<a href=\"https://colab.research.google.com/github/danielklz07/FunProMen_521057_Taller3/blob/main/Taller3.ipynb\" target=\"_parent\"><img src=\"https://colab.research.google.com/assets/colab-badge.svg\" alt=\"Open In Colab\"/></a>"
      ]
    },
    {
      "cell_type": "markdown",
      "source": [
        "#Problema. \n",
        "tarifa_factura\n"
      ],
      "metadata": {
        "id": "Y_GovpHL1n-N"
      }
    },
    {
      "cell_type": "code",
      "execution_count": null,
      "metadata": {
        "colab": {
          "base_uri": "https://localhost:8080/"
        },
        "id": "55ZW8UtV0oV-",
        "outputId": "4421b1b2-332f-411f-b1da-5bb165ef6f6b"
      },
      "outputs": [
        {
          "output_type": "stream",
          "name": "stdout",
          "text": [
            "Ingrese su costo de vida como estudiante: 3000000\n",
            "Ingrese su estrato socioeconomico: 1\n",
            "Ingrese su lugar de residencia(dentro o fuera de monteria): Fuera\n",
            "Ingrese su edad: 18\n",
            "Ingrese su promedio academico ponderado proyectado en el semestre: 4.1\n",
            "Tu gasto total mensual estimado es de $ -1250000.0\n"
          ]
        }
      ],
      "source": [
        "#Solicitamos informacion personal del estudiante\n",
        "costo_vida = float(input(\"Ingrese su costo de vida como estudiante: \"))\n",
        "estrato = int(input(\"Ingrese su estrato socioeconomico: \"))\n",
        "lugar_residencia = input(\"Ingrese su lugar de residencia(dentro o fuera de monteria): \")\n",
        "edad = int(input(\"Ingrese su edad: \"))\n",
        "promedio_ponderado = float(input(\"Ingrese su promedio academico ponderado proyectado en el semestre: \"))\n",
        "\n",
        "#Definimos las variables inicales\n",
        "total_gastos = 0\n",
        "transporte = 0\n",
        "alimentacion = 0\n",
        "matricula = 5000000\n",
        "apoyo_transporte = 0\n",
        "apoyo_alimentacion = 0\n",
        "apoyo_matricula = 0\n",
        "\n",
        "#Calculamos el costo del transporte segun el lugar de residencia\n",
        "\n",
        "if lugar_residencia == \"Fuera\":\n",
        "  transporte = 2800 * 2 * 20\n",
        "else:\n",
        "  trasnporte = 3500 * 2 * 20\n",
        "\n",
        "#Calculamos el costo de la alimentacion y aplicamos los apoyos de Chocolove\n",
        "\n",
        "alimentacion = 20000 * 20\n",
        "if estrato == 1:\n",
        "  if edad < 18:\n",
        "    apoyo_alimentacion = alimentacion * 0.9\n",
        "  else:\n",
        "    apoyo_alimentacion = alimentacion * 0.7\n",
        "if estrato == 2:\n",
        "  if edad < 18:\n",
        "      apoyo_alimentacion = alimentacion * 0.7\n",
        "else: apoyo_alimencion = alimentacion * 0.5\n",
        "if estrato == 3:\n",
        "  if edad < 18:\n",
        "      apoyo_alimentacion = alimentacion * 0.5\n",
        "else:\n",
        "    apoyo_alimentacion = alimentacion * 0.3\n",
        "\n",
        "#Calculamos el apoyo de Chocolove para el trasnporte segun el estrato y edad\n",
        "\n",
        "if estrato == 1:\n",
        "  if edad < 18:\n",
        "    apoyo_trasnporte = 65000\n",
        "  else:\n",
        "    apoyo_transporte = 50000\n",
        "\n",
        "elif estrato == 2:\n",
        "  if edad < 18:\n",
        "    apoyo_transporte = 45000\n",
        "  else:\n",
        "    apoyo_transporte = 30000\n",
        "\n",
        "elif estrato == 3:\n",
        "    if edad < 18:\n",
        "      apoyo_transporte = 35000\n",
        "else:\n",
        "    apoyo_transporte = 20000\n",
        "\n",
        "#Calculamos el apoyo de Chocolove para la matricula segun el promedio ponderado\n",
        "\n",
        "if promedio_ponderado < 4.8:\n",
        "  apoyo_matricula = matricula\n",
        "elif promedio_ponderado >= 4.5 and promedio_ponderado < 4.8:\n",
        "  apoyo_matricula = matricula * 0.7\n",
        "elif promedio_ponderado  >= 4.0 and promedio_ponderado < 4.5:\n",
        "  apoyo_matricula = matricula * 0.4\n",
        "\n",
        "#Aplicamos el apoyo de Chocolve a los gastos totales\n",
        "total_gastos -= apoyo_matricula\n",
        "\n",
        "#Calculamos el gasto total mensual y lo imprimimos\n",
        "gastos_total_mensual = total_gastos / 4\n",
        "print(\"Tu gasto total mensual estimado es de $\",gastos_total_mensual)"
      ]
    }
  ]
}